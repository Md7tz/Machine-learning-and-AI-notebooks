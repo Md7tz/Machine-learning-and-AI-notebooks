{
 "cells": [
  {
   "cell_type": "markdown",
   "id": "7189d1cf",
   "metadata": {},
   "source": [
    "# Recommender with Naïve Bayes\n",
    "\n",
    "## Test with a toy data"
   ]
  },
  {
   "cell_type": "code",
   "execution_count": 1,
   "id": "41d816ce",
   "metadata": {},
   "outputs": [],
   "source": [
    "import numpy as np\n",
    "\n",
    "X_train = np.array([[0, 1, 1],\n",
    "                    [0, 0, 1],\n",
    "                    [0, 0, 0],\n",
    "                    [1, 1, 0]])\n",
    "y_train = ['Y', 'N', 'Y', 'Y']\n",
    "X_test = np.array([[1, 1, 0]])"
   ]
  },
  {
   "cell_type": "code",
   "execution_count": 2,
   "id": "2d4094d9",
   "metadata": {},
   "outputs": [
    {
     "data": {
      "text/plain": [
       "BernoulliNB()"
      ]
     },
     "execution_count": 2,
     "metadata": {},
     "output_type": "execute_result"
    }
   ],
   "source": [
    "from sklearn.naive_bayes import BernoulliNB\n",
    "\n",
    "clf = BernoulliNB(alpha=1.0, fit_prior=True)\n",
    "clf.fit(X_train, y_train)"
   ]
  },
  {
   "cell_type": "code",
   "execution_count": 4,
   "id": "b58e4ae9",
   "metadata": {},
   "outputs": [
    {
     "name": "stdout",
     "output_type": "stream",
     "text": [
      "Predicted probabilites:\n",
      " [[0.07896399 0.92103601]]\n"
     ]
    }
   ],
   "source": [
    "pred_prob = clf.predict_proba(X_test)\n",
    "print('Predicted probabilites:\\n', pred_prob)"
   ]
  },
  {
   "cell_type": "code",
   "execution_count": 5,
   "id": "171a2592",
   "metadata": {},
   "outputs": [
    {
     "name": "stdout",
     "output_type": "stream",
     "text": [
      "Prediction: Y\n"
     ]
    }
   ],
   "source": [
    "pred = clf.predict(X_test)\n",
    "print('Prediction:', *pred)"
   ]
  },
  {
   "cell_type": "markdown",
   "id": "311b461c",
   "metadata": {},
   "source": [
    "## Get the data"
   ]
  },
  {
   "cell_type": "code",
   "execution_count": 6,
   "id": "e36f7ee9",
   "metadata": {},
   "outputs": [],
   "source": [
    "import os\n",
    "from collections import defaultdict\n",
    "data_path = \"./datasets/ml-1m\"\n",
    "rating_data = os.path.join(data_path, 'ratings.dat')\n",
    "n_users = 6040\n",
    "n_movies = 3952"
   ]
  },
  {
   "cell_type": "code",
   "execution_count": 10,
   "id": "127fc30f",
   "metadata": {},
   "outputs": [],
   "source": [
    "def load_rating_data(data_path, n_users, n_movies):\n",
    "    \"\"\"\n",
    "    Load rating data from file and also return the number of \n",
    "    ratings for each movie and movie_id index mapping\n",
    "    @param data_path: path of the rating data file\n",
    "    @param n_users: number of users\n",
    "    @param n_movies: number of movies that have ratings\n",
    "    @return: rating data in the numpy array of [user, movie];\n",
    "             movie_n_rating, {movie_id: number of ratings};\n",
    "             movie_id_mapping, {movie_id: column index in rating data}\n",
    "    \"\"\"\n",
    "    data = np.zeros([n_users, n_movies], dtype=np.float32)\n",
    "    movie_id_mapping = {}\n",
    "    movie_n_rating = defaultdict(int)\n",
    "    with open(data_path, 'r') as file:\n",
    "        for line in file.readlines()[1:]:\n",
    "            user_id, movie_id, rating, _ = line.split(\"::\")\n",
    "            user_id = int(user_id) - 1\n",
    "            \n",
    "            if movie_id not in movie_id_mapping:\n",
    "                movie_id_mapping[movie_id] = len(movie_id_mapping)\n",
    "            rating = int(rating)\n",
    "            data[user_id, movie_id_mapping[movie_id]] = rating\n",
    "            \n",
    "            if rating > 0: \n",
    "                movie_n_rating[movie_id] += 1\n",
    "    return data, movie_n_rating, movie_id_mapping"
   ]
  },
  {
   "cell_type": "code",
   "execution_count": 14,
   "id": "4fed6cd3",
   "metadata": {},
   "outputs": [],
   "source": [
    "data, movie_n_rating, movie_id_mapping = load_rating_data(rating_data, n_users, n_movies)"
   ]
  },
  {
   "cell_type": "code",
   "execution_count": 15,
   "id": "5ff15de3",
   "metadata": {},
   "outputs": [],
   "source": [
    "def display_distribution(data):\n",
    "    values, counts = np.unique(data, return_counts=True)\n",
    "    for value, count in zip(values, counts):\n",
    "        print(f\"Number of rating {int(value)}: {count}\")"
   ]
  },
  {
   "cell_type": "code",
   "execution_count": 16,
   "id": "56eb6e1d",
   "metadata": {},
   "outputs": [
    {
     "name": "stdout",
     "output_type": "stream",
     "text": [
      "Number of rating 0: 21384032\n",
      "Number of rating 1: 56174\n",
      "Number of rating 2: 107557\n",
      "Number of rating 3: 261197\n",
      "Number of rating 4: 348971\n",
      "Number of rating 5: 226309\n"
     ]
    }
   ],
   "source": [
    "display_distribution(data)"
   ]
  },
  {
   "cell_type": "markdown",
   "id": "2af0ae04",
   "metadata": {},
   "source": [
    "we take the movie with the most known ratings as \n",
    "our target movie:"
   ]
  },
  {
   "cell_type": "code",
   "execution_count": 22,
   "id": "6cae3bc0",
   "metadata": {},
   "outputs": [
    {
     "name": "stdout",
     "output_type": "stream",
     "text": [
      "Movie ID 2858 has 3428 ratings.\n"
     ]
    }
   ],
   "source": [
    "movie_id_most, n_rating_most = sorted(movie_n_rating.items(), key=lambda d: d[1], reverse=True)[0]\n",
    "print(f\"Movie ID {movie_id_most} has {n_rating_most} ratings.\")"
   ]
  },
  {
   "cell_type": "code",
   "execution_count": 23,
   "id": "4da09c32",
   "metadata": {},
   "outputs": [],
   "source": [
    "X_raw = np.delete(data, movie_id_mapping[movie_id_most], axis=1)\n",
    "y_raw = data[:, movie_id_mapping[movie_id_most]]"
   ]
  },
  {
   "cell_type": "markdown",
   "id": "23c20718",
   "metadata": {},
   "source": [
    "discard samples without a rating in movie ID 2858"
   ]
  },
  {
   "cell_type": "code",
   "execution_count": 29,
   "id": "aac3c8e8",
   "metadata": {},
   "outputs": [
    {
     "name": "stdout",
     "output_type": "stream",
     "text": [
      "Shape of X: (3428, 3705)\n",
      "Shape of y: (3428,)\n"
     ]
    }
   ],
   "source": [
    "X = X_raw[y_raw > 0]\n",
    "y = y_raw[y_raw > 0]\n",
    "print('Shape of X:', X.shape)\n",
    "print('Shape of y:', y.shape)"
   ]
  },
  {
   "cell_type": "code",
   "execution_count": 32,
   "id": "18b79e49",
   "metadata": {},
   "outputs": [
    {
     "name": "stdout",
     "output_type": "stream",
     "text": [
      "Number of rating 0: 11986488\n",
      "Number of rating 1: 39995\n",
      "Number of rating 2: 79832\n",
      "Number of rating 3: 189550\n",
      "Number of rating 4: 250231\n",
      "Number of rating 5: 154644\n"
     ]
    }
   ],
   "source": [
    "display_distribution(X)"
   ]
  },
  {
   "cell_type": "markdown",
   "id": "bb92c798",
   "metadata": {},
   "source": [
    "Consider movies with ratings greater than 3 as being liked (being \n",
    "recommended)"
   ]
  },
  {
   "cell_type": "code",
   "execution_count": 35,
   "id": "f643939e",
   "metadata": {},
   "outputs": [
    {
     "name": "stdout",
     "output_type": "stream",
     "text": [
      "2853 positive samples and 575 negative samples.\n"
     ]
    }
   ],
   "source": [
    "recommend = 3\n",
    "y[y <= recommend] = 0\n",
    "y[y > recommend] = 1\n",
    "n_pos = (y == 1).sum()\n",
    "n_neg = (y == 0).sum()\n",
    "print(f\"{n_pos} positive samples and {n_neg} negative samples.\")"
   ]
  },
  {
   "cell_type": "code",
   "execution_count": 36,
   "id": "af971bcc",
   "metadata": {},
   "outputs": [],
   "source": [
    "from sklearn.model_selection import train_test_split\n",
    "X_train, X_test, y_train, y_test = train_test_split(X, y, test_size=0.2, random_state=42)"
   ]
  },
  {
   "cell_type": "code",
   "execution_count": 38,
   "id": "e798bb10",
   "metadata": {},
   "outputs": [
    {
     "data": {
      "text/plain": [
       "(2742, 686, 2742, 686)"
      ]
     },
     "execution_count": 38,
     "metadata": {},
     "output_type": "execute_result"
    }
   ],
   "source": [
    "len(X_train), len(X_test), len(y_train), len(y_test)"
   ]
  },
  {
   "cell_type": "markdown",
   "id": "588564c1",
   "metadata": {},
   "source": [
    "Notice that the \n",
    "values of the input features are from 0 to 5, as opposed to 0 or 1 in our toy example. \n",
    "Hence, we use the MultinomialNB module"
   ]
  },
  {
   "cell_type": "code",
   "execution_count": 39,
   "id": "ea578d60",
   "metadata": {},
   "outputs": [
    {
     "data": {
      "text/plain": [
       "MultinomialNB()"
      ]
     },
     "execution_count": 39,
     "metadata": {},
     "output_type": "execute_result"
    }
   ],
   "source": [
    "from sklearn.naive_bayes import MultinomialNB\n",
    "clf = MultinomialNB()\n",
    "clf.fit(X_train, y_train)"
   ]
  },
  {
   "cell_type": "code",
   "execution_count": 41,
   "id": "63c99f40",
   "metadata": {},
   "outputs": [
    {
     "data": {
      "text/plain": [
       "array([[7.50487439e-23, 1.00000000e+00],\n",
       "       [1.01806208e-01, 8.98193792e-01],\n",
       "       [3.57740570e-10, 1.00000000e+00],\n",
       "       [1.00000000e+00, 2.94095407e-16],\n",
       "       [1.00000000e+00, 2.49760836e-25],\n",
       "       [7.62630220e-01, 2.37369780e-01],\n",
       "       [3.47479627e-05, 9.99965252e-01],\n",
       "       [2.66075292e-11, 1.00000000e+00],\n",
       "       [5.88493563e-10, 9.99999999e-01],\n",
       "       [9.71326867e-09, 9.99999990e-01]])"
      ]
     },
     "execution_count": 41,
     "metadata": {},
     "output_type": "execute_result"
    }
   ],
   "source": [
    "prediction_prob = clf.predict_proba(X_test)\n",
    "prediction_prob[:10]"
   ]
  },
  {
   "cell_type": "code",
   "execution_count": 51,
   "id": "6f43dae8",
   "metadata": {},
   "outputs": [
    {
     "data": {
      "text/plain": [
       "array([[0., 0., 0., ..., 0., 0., 0.],\n",
       "       [0., 0., 0., ..., 0., 0., 0.],\n",
       "       [0., 0., 4., ..., 0., 0., 0.],\n",
       "       ...,\n",
       "       [2., 0., 0., ..., 0., 0., 0.],\n",
       "       [0., 0., 0., ..., 0., 0., 0.],\n",
       "       [0., 0., 5., ..., 0., 0., 0.]], dtype=float32)"
      ]
     },
     "execution_count": 51,
     "metadata": {},
     "output_type": "execute_result"
    }
   ],
   "source": [
    "prob = clf.predict(X_test)\n",
    "X_test"
   ]
  },
  {
   "cell_type": "code",
   "execution_count": 47,
   "id": "1c6466f2",
   "metadata": {},
   "outputs": [
    {
     "name": "stdout",
     "output_type": "stream",
     "text": [
      "the accuracy is 71.6%\n"
     ]
    }
   ],
   "source": [
    "accuracy = clf.score(X_test, y_test)\n",
    "print(f\"the accuracy is {accuracy*100:.1f}%\")"
   ]
  },
  {
   "cell_type": "code",
   "execution_count": null,
   "id": "268f7c5e",
   "metadata": {},
   "outputs": [],
   "source": []
  }
 ],
 "metadata": {
  "kernelspec": {
   "display_name": "Python 3",
   "language": "python",
   "name": "python3"
  },
  "language_info": {
   "codemirror_mode": {
    "name": "ipython",
    "version": 3
   },
   "file_extension": ".py",
   "mimetype": "text/x-python",
   "name": "python",
   "nbconvert_exporter": "python",
   "pygments_lexer": "ipython3",
   "version": "3.9.6"
  }
 },
 "nbformat": 4,
 "nbformat_minor": 5
}
